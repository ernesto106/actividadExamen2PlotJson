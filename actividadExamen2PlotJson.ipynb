{
 "cells": [
  {
   "cell_type": "markdown",
   "id": "474a282e",
   "metadata": {},
   "source": [
    "Ejercicio 0\n",
    "busca un repositorio en donde podamos acceder / descargar contenido json válido.\n"
   ]
  },
  {
   "cell_type": "markdown",
   "id": "80d31567",
   "metadata": {},
   "source": [
    "https://data.humdata.org/dataset/json-repository"
   ]
  },
  {
   "cell_type": "markdown",
   "id": "a54fd708",
   "metadata": {},
   "source": [
    "Ejercicio 1\n",
    "cuando te conectas a una ruta ... es habitual escribir r\"ruta\". ¿qué significa esa r?\n",
    "\n",
    "Respuesta: r significa \"raw\" y hará que las barras invertidas en la cadena se interpreten como barras invertidas reales en lugar de caracteres especiales."
   ]
  },
  {
   "cell_type": "markdown",
   "id": "36f0ba5b",
   "metadata": {},
   "source": [
    "Ejercicio2\n",
    "conéctate a un json y muestra algunos datos en python para probar que funciona"
   ]
  },
  {
   "cell_type": "code",
   "execution_count": 2,
   "id": "542dc548",
   "metadata": {},
   "outputs": [
    {
     "name": "stdout",
     "output_type": "stream",
     "text": [
      "                type                                           features\n",
      "0  FeatureCollection  {'type': 'Feature', 'properties': {'admin2Name...\n",
      "1  FeatureCollection  {'type': 'Feature', 'properties': {'admin2Name...\n",
      "2  FeatureCollection  {'type': 'Feature', 'properties': {'admin2Name...\n",
      "3  FeatureCollection  {'type': 'Feature', 'properties': {'admin2Name...\n",
      "4  FeatureCollection  {'type': 'Feature', 'properties': {'admin2Name...\n"
     ]
    }
   ],
   "source": [
    "import pandas as pd\n",
    "\n",
    "url=r\"C:\\Users\\ernes\\OneDrive\\Escritorio\\south_sudan.json\"\n",
    "df = pd.read_json(url)\n",
    "print(df.head())"
   ]
  },
  {
   "cell_type": "markdown",
   "id": "059a0dd7",
   "metadata": {},
   "source": [
    "Ejercicio3\n",
    "representa algunos datos en un gráfico circular"
   ]
  },
  {
   "cell_type": "markdown",
   "id": "f3b2f462",
   "metadata": {},
   "source": [
    "import pandas as pd\n",
    "import matplotlib.pyplot as plt\n",
    "\n",
    "\n",
    "url=r\"C:\\Users\\ernes\\OneDrive\\Escritorio\\sample4.json\"\n",
    "df = pd.read_json(url)\n",
    "ax1 = plt.pie(121, aspect='equal')\n",
    "df.plot(kind='pie', y = 'people', ax=ax1, autopct='%1.1f%%', \n",
    " startangle=90, shadow=False, labels=df['people'], legend = False, fontsize=14)\n",
    "\n"
   ]
  },
  {
   "cell_type": "markdown",
   "id": "536ab847",
   "metadata": {},
   "source": [
    "Ejercicio4\n",
    "representa algunos datos en un gráfico de barras"
   ]
  },
  {
   "cell_type": "code",
   "execution_count": null,
   "id": "78fe7dd9",
   "metadata": {},
   "outputs": [],
   "source": []
  }
 ],
 "metadata": {
  "kernelspec": {
   "display_name": "Python 3 (ipykernel)",
   "language": "python",
   "name": "python3"
  },
  "language_info": {
   "codemirror_mode": {
    "name": "ipython",
    "version": 3
   },
   "file_extension": ".py",
   "mimetype": "text/x-python",
   "name": "python",
   "nbconvert_exporter": "python",
   "pygments_lexer": "ipython3",
   "version": "3.9.7"
  }
 },
 "nbformat": 4,
 "nbformat_minor": 5
}
